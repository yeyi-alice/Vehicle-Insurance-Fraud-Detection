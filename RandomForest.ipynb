{
 "cells": [
  {
   "cell_type": "code",
   "execution_count": 2,
   "metadata": {},
   "outputs": [],
   "source": [
    "import pandas as pd\n",
    "import numpy as np\n",
    "from sklearn.model_selection import train_test_split\n",
    "import matplotlib.pyplot as plt"
   ]
  },
  {
   "cell_type": "code",
   "execution_count": 3,
   "metadata": {},
   "outputs": [
    {
     "data": {
      "text/html": [
       "<div>\n",
       "<style scoped>\n",
       "    .dataframe tbody tr th:only-of-type {\n",
       "        vertical-align: middle;\n",
       "    }\n",
       "\n",
       "    .dataframe tbody tr th {\n",
       "        vertical-align: top;\n",
       "    }\n",
       "\n",
       "    .dataframe thead th {\n",
       "        text-align: right;\n",
       "    }\n",
       "</style>\n",
       "<table border=\"1\" class=\"dataframe\">\n",
       "  <thead>\n",
       "    <tr style=\"text-align: right;\">\n",
       "      <th></th>\n",
       "      <th>Month</th>\n",
       "      <th>WeekOfMonth</th>\n",
       "      <th>DayOfWeek</th>\n",
       "      <th>Make</th>\n",
       "      <th>AccidentArea</th>\n",
       "      <th>DayOfWeekClaimed</th>\n",
       "      <th>MonthClaimed</th>\n",
       "      <th>WeekOfMonthClaimed</th>\n",
       "      <th>Sex</th>\n",
       "      <th>MaritalStatus</th>\n",
       "      <th>...</th>\n",
       "      <th>WitnessPresent</th>\n",
       "      <th>AgentType</th>\n",
       "      <th>NumberOfSuppliments</th>\n",
       "      <th>AddressChange_Claim</th>\n",
       "      <th>NumberOfCars</th>\n",
       "      <th>Year</th>\n",
       "      <th>BasePolicy</th>\n",
       "      <th>Date</th>\n",
       "      <th>DateClaimed</th>\n",
       "      <th>Date_Diff</th>\n",
       "    </tr>\n",
       "  </thead>\n",
       "  <tbody>\n",
       "    <tr>\n",
       "      <th>0</th>\n",
       "      <td>12</td>\n",
       "      <td>5</td>\n",
       "      <td>3</td>\n",
       "      <td>Honda</td>\n",
       "      <td>Urban</td>\n",
       "      <td>2</td>\n",
       "      <td>1</td>\n",
       "      <td>1</td>\n",
       "      <td>Female</td>\n",
       "      <td>Single</td>\n",
       "      <td>...</td>\n",
       "      <td>No</td>\n",
       "      <td>External</td>\n",
       "      <td>none</td>\n",
       "      <td>1 year</td>\n",
       "      <td>3 to 4</td>\n",
       "      <td>1994</td>\n",
       "      <td>Liability</td>\n",
       "      <td>1994-12-29</td>\n",
       "      <td>1994-01-05</td>\n",
       "      <td>-358</td>\n",
       "    </tr>\n",
       "    <tr>\n",
       "      <th>1</th>\n",
       "      <td>1</td>\n",
       "      <td>3</td>\n",
       "      <td>3</td>\n",
       "      <td>Honda</td>\n",
       "      <td>Urban</td>\n",
       "      <td>1</td>\n",
       "      <td>1</td>\n",
       "      <td>4</td>\n",
       "      <td>Male</td>\n",
       "      <td>Single</td>\n",
       "      <td>...</td>\n",
       "      <td>No</td>\n",
       "      <td>External</td>\n",
       "      <td>none</td>\n",
       "      <td>no change</td>\n",
       "      <td>1 vehicle</td>\n",
       "      <td>1994</td>\n",
       "      <td>Collision</td>\n",
       "      <td>1994-01-20</td>\n",
       "      <td>1994-01-25</td>\n",
       "      <td>5</td>\n",
       "    </tr>\n",
       "    <tr>\n",
       "      <th>2</th>\n",
       "      <td>10</td>\n",
       "      <td>5</td>\n",
       "      <td>5</td>\n",
       "      <td>Honda</td>\n",
       "      <td>Urban</td>\n",
       "      <td>4</td>\n",
       "      <td>11</td>\n",
       "      <td>2</td>\n",
       "      <td>Male</td>\n",
       "      <td>Married</td>\n",
       "      <td>...</td>\n",
       "      <td>No</td>\n",
       "      <td>External</td>\n",
       "      <td>none</td>\n",
       "      <td>no change</td>\n",
       "      <td>1 vehicle</td>\n",
       "      <td>1994</td>\n",
       "      <td>Collision</td>\n",
       "      <td>1994-10-29</td>\n",
       "      <td>1994-11-11</td>\n",
       "      <td>13</td>\n",
       "    </tr>\n",
       "    <tr>\n",
       "      <th>3</th>\n",
       "      <td>6</td>\n",
       "      <td>2</td>\n",
       "      <td>6</td>\n",
       "      <td>Toyota</td>\n",
       "      <td>Rural</td>\n",
       "      <td>5</td>\n",
       "      <td>7</td>\n",
       "      <td>1</td>\n",
       "      <td>Male</td>\n",
       "      <td>Married</td>\n",
       "      <td>...</td>\n",
       "      <td>No</td>\n",
       "      <td>External</td>\n",
       "      <td>more than 5</td>\n",
       "      <td>no change</td>\n",
       "      <td>1 vehicle</td>\n",
       "      <td>1994</td>\n",
       "      <td>Liability</td>\n",
       "      <td>1994-06-12</td>\n",
       "      <td>1994-07-02</td>\n",
       "      <td>20</td>\n",
       "    </tr>\n",
       "    <tr>\n",
       "      <th>4</th>\n",
       "      <td>1</td>\n",
       "      <td>5</td>\n",
       "      <td>1</td>\n",
       "      <td>Honda</td>\n",
       "      <td>Urban</td>\n",
       "      <td>2</td>\n",
       "      <td>2</td>\n",
       "      <td>2</td>\n",
       "      <td>Female</td>\n",
       "      <td>Single</td>\n",
       "      <td>...</td>\n",
       "      <td>No</td>\n",
       "      <td>External</td>\n",
       "      <td>none</td>\n",
       "      <td>no change</td>\n",
       "      <td>1 vehicle</td>\n",
       "      <td>1994</td>\n",
       "      <td>Collision</td>\n",
       "      <td>1994-02-01</td>\n",
       "      <td>1994-02-09</td>\n",
       "      <td>8</td>\n",
       "    </tr>\n",
       "    <tr>\n",
       "      <th>...</th>\n",
       "      <td>...</td>\n",
       "      <td>...</td>\n",
       "      <td>...</td>\n",
       "      <td>...</td>\n",
       "      <td>...</td>\n",
       "      <td>...</td>\n",
       "      <td>...</td>\n",
       "      <td>...</td>\n",
       "      <td>...</td>\n",
       "      <td>...</td>\n",
       "      <td>...</td>\n",
       "      <td>...</td>\n",
       "      <td>...</td>\n",
       "      <td>...</td>\n",
       "      <td>...</td>\n",
       "      <td>...</td>\n",
       "      <td>...</td>\n",
       "      <td>...</td>\n",
       "      <td>...</td>\n",
       "      <td>...</td>\n",
       "      <td>...</td>\n",
       "    </tr>\n",
       "    <tr>\n",
       "      <th>15414</th>\n",
       "      <td>11</td>\n",
       "      <td>4</td>\n",
       "      <td>5</td>\n",
       "      <td>Toyota</td>\n",
       "      <td>Urban</td>\n",
       "      <td>2</td>\n",
       "      <td>11</td>\n",
       "      <td>5</td>\n",
       "      <td>Male</td>\n",
       "      <td>Married</td>\n",
       "      <td>...</td>\n",
       "      <td>No</td>\n",
       "      <td>External</td>\n",
       "      <td>none</td>\n",
       "      <td>no change</td>\n",
       "      <td>1 vehicle</td>\n",
       "      <td>1996</td>\n",
       "      <td>Collision</td>\n",
       "      <td>1996-11-23</td>\n",
       "      <td>1996-12-04</td>\n",
       "      <td>11</td>\n",
       "    </tr>\n",
       "    <tr>\n",
       "      <th>15415</th>\n",
       "      <td>11</td>\n",
       "      <td>5</td>\n",
       "      <td>4</td>\n",
       "      <td>Pontiac</td>\n",
       "      <td>Urban</td>\n",
       "      <td>5</td>\n",
       "      <td>12</td>\n",
       "      <td>1</td>\n",
       "      <td>Male</td>\n",
       "      <td>Married</td>\n",
       "      <td>...</td>\n",
       "      <td>No</td>\n",
       "      <td>External</td>\n",
       "      <td>more than 5</td>\n",
       "      <td>no change</td>\n",
       "      <td>3 to 4</td>\n",
       "      <td>1996</td>\n",
       "      <td>Liability</td>\n",
       "      <td>1996-11-29</td>\n",
       "      <td>1996-12-07</td>\n",
       "      <td>8</td>\n",
       "    </tr>\n",
       "    <tr>\n",
       "      <th>15416</th>\n",
       "      <td>11</td>\n",
       "      <td>5</td>\n",
       "      <td>4</td>\n",
       "      <td>Toyota</td>\n",
       "      <td>Rural</td>\n",
       "      <td>5</td>\n",
       "      <td>12</td>\n",
       "      <td>1</td>\n",
       "      <td>Male</td>\n",
       "      <td>Single</td>\n",
       "      <td>...</td>\n",
       "      <td>No</td>\n",
       "      <td>External</td>\n",
       "      <td>1 to 2</td>\n",
       "      <td>no change</td>\n",
       "      <td>1 vehicle</td>\n",
       "      <td>1996</td>\n",
       "      <td>Collision</td>\n",
       "      <td>1996-11-29</td>\n",
       "      <td>1996-12-07</td>\n",
       "      <td>8</td>\n",
       "    </tr>\n",
       "    <tr>\n",
       "      <th>15417</th>\n",
       "      <td>12</td>\n",
       "      <td>1</td>\n",
       "      <td>1</td>\n",
       "      <td>Toyota</td>\n",
       "      <td>Urban</td>\n",
       "      <td>4</td>\n",
       "      <td>12</td>\n",
       "      <td>2</td>\n",
       "      <td>Female</td>\n",
       "      <td>Married</td>\n",
       "      <td>...</td>\n",
       "      <td>No</td>\n",
       "      <td>External</td>\n",
       "      <td>more than 5</td>\n",
       "      <td>no change</td>\n",
       "      <td>1 vehicle</td>\n",
       "      <td>1996</td>\n",
       "      <td>All Perils</td>\n",
       "      <td>1996-12-03</td>\n",
       "      <td>1996-12-13</td>\n",
       "      <td>10</td>\n",
       "    </tr>\n",
       "    <tr>\n",
       "      <th>15418</th>\n",
       "      <td>12</td>\n",
       "      <td>2</td>\n",
       "      <td>3</td>\n",
       "      <td>Toyota</td>\n",
       "      <td>Urban</td>\n",
       "      <td>4</td>\n",
       "      <td>12</td>\n",
       "      <td>3</td>\n",
       "      <td>Male</td>\n",
       "      <td>Single</td>\n",
       "      <td>...</td>\n",
       "      <td>No</td>\n",
       "      <td>External</td>\n",
       "      <td>1 to 2</td>\n",
       "      <td>no change</td>\n",
       "      <td>1 vehicle</td>\n",
       "      <td>1996</td>\n",
       "      <td>Collision</td>\n",
       "      <td>1996-12-12</td>\n",
       "      <td>1996-12-20</td>\n",
       "      <td>8</td>\n",
       "    </tr>\n",
       "  </tbody>\n",
       "</table>\n",
       "<p>15419 rows × 36 columns</p>\n",
       "</div>"
      ],
      "text/plain": [
       "       Month  WeekOfMonth  DayOfWeek     Make AccidentArea  DayOfWeekClaimed  \\\n",
       "0         12            5          3    Honda        Urban                 2   \n",
       "1          1            3          3    Honda        Urban                 1   \n",
       "2         10            5          5    Honda        Urban                 4   \n",
       "3          6            2          6   Toyota        Rural                 5   \n",
       "4          1            5          1    Honda        Urban                 2   \n",
       "...      ...          ...        ...      ...          ...               ...   \n",
       "15414     11            4          5   Toyota        Urban                 2   \n",
       "15415     11            5          4  Pontiac        Urban                 5   \n",
       "15416     11            5          4   Toyota        Rural                 5   \n",
       "15417     12            1          1   Toyota        Urban                 4   \n",
       "15418     12            2          3   Toyota        Urban                 4   \n",
       "\n",
       "       MonthClaimed  WeekOfMonthClaimed     Sex MaritalStatus  ...  \\\n",
       "0                 1                   1  Female        Single  ...   \n",
       "1                 1                   4    Male        Single  ...   \n",
       "2                11                   2    Male       Married  ...   \n",
       "3                 7                   1    Male       Married  ...   \n",
       "4                 2                   2  Female        Single  ...   \n",
       "...             ...                 ...     ...           ...  ...   \n",
       "15414            11                   5    Male       Married  ...   \n",
       "15415            12                   1    Male       Married  ...   \n",
       "15416            12                   1    Male        Single  ...   \n",
       "15417            12                   2  Female       Married  ...   \n",
       "15418            12                   3    Male        Single  ...   \n",
       "\n",
       "       WitnessPresent AgentType NumberOfSuppliments AddressChange_Claim  \\\n",
       "0                  No  External                none              1 year   \n",
       "1                  No  External                none           no change   \n",
       "2                  No  External                none           no change   \n",
       "3                  No  External         more than 5           no change   \n",
       "4                  No  External                none           no change   \n",
       "...               ...       ...                 ...                 ...   \n",
       "15414              No  External                none           no change   \n",
       "15415              No  External         more than 5           no change   \n",
       "15416              No  External              1 to 2           no change   \n",
       "15417              No  External         more than 5           no change   \n",
       "15418              No  External              1 to 2           no change   \n",
       "\n",
       "      NumberOfCars  Year  BasePolicy       Date  DateClaimed  Date_Diff  \n",
       "0           3 to 4  1994   Liability 1994-12-29   1994-01-05       -358  \n",
       "1        1 vehicle  1994   Collision 1994-01-20   1994-01-25          5  \n",
       "2        1 vehicle  1994   Collision 1994-10-29   1994-11-11         13  \n",
       "3        1 vehicle  1994   Liability 1994-06-12   1994-07-02         20  \n",
       "4        1 vehicle  1994   Collision 1994-02-01   1994-02-09          8  \n",
       "...            ...   ...         ...        ...          ...        ...  \n",
       "15414    1 vehicle  1996   Collision 1996-11-23   1996-12-04         11  \n",
       "15415       3 to 4  1996   Liability 1996-11-29   1996-12-07          8  \n",
       "15416    1 vehicle  1996   Collision 1996-11-29   1996-12-07          8  \n",
       "15417    1 vehicle  1996  All Perils 1996-12-03   1996-12-13         10  \n",
       "15418    1 vehicle  1996   Collision 1996-12-12   1996-12-20          8  \n",
       "\n",
       "[15419 rows x 36 columns]"
      ]
     },
     "execution_count": 3,
     "metadata": {},
     "output_type": "execute_result"
    }
   ],
   "source": [
    "df = pd.read_excel('data_new.xlsx')\n",
    "df"
   ]
  },
  {
   "cell_type": "code",
   "execution_count": 4,
   "metadata": {},
   "outputs": [
    {
     "name": "stdout",
     "output_type": "stream",
     "text": [
      "(15419, 22)\n",
      "(15419,)\n",
      "(12335, 22)\n",
      "(3084, 22)\n",
      "(12335,)\n",
      "(3084,)\n"
     ]
    }
   ],
   "source": [
    "X = df[['AccidentArea',\n",
    "        'Sex',\n",
    "        'MaritalStatus',\n",
    "        'Age', \n",
    "        'Fault', \n",
    "        'VehicleCategory', \n",
    "        'VehiclePrice', \n",
    "        'RepNumber', \n",
    "        'Deductible', \n",
    "        'DriverRating', \n",
    "        'Days_Policy_Accident',\n",
    "        'Days_Policy_Claim',\n",
    "        'PastNumberOfClaims',\n",
    "        'AgeOfVehicle',\n",
    "        'PoliceReportFiled',\n",
    "        'WitnessPresent',\n",
    "        'AgentType',\n",
    "        'NumberOfSuppliments',\n",
    "        'AddressChange_Claim',\n",
    "        'NumberOfCars',\n",
    "        'BasePolicy',\n",
    "        'Date_Diff']]\n",
    "\n",
    "    \n",
    "\n",
    "y = df['FraudFound_P']\n",
    "\n",
    "print(X.shape)\n",
    "print(y.shape)\n",
    "\n",
    "X_train, X_test, y_train, y_test = train_test_split(X, y, test_size=0.2, random_state=0)\n",
    "\n",
    "print(X_train.shape)\n",
    "print(X_test.shape)\n",
    "print(y_train.shape)\n",
    "print(y_test.shape)"
   ]
  },
  {
   "cell_type": "code",
   "execution_count": 5,
   "metadata": {},
   "outputs": [
    {
     "name": "stdout",
     "output_type": "stream",
     "text": [
      "(12335, 67)\n"
     ]
    }
   ],
   "source": [
    "from sklearn.compose import ColumnTransformer\n",
    "from sklearn.preprocessing import OneHotEncoder\n",
    "\n",
    "\n",
    "categorical_columns =  ['AccidentArea',\n",
    "                        'Sex',\n",
    "                        'MaritalStatus',\n",
    "                        'Fault', \n",
    "                        'VehicleCategory', \n",
    "                        'VehiclePrice',\n",
    "                        'Days_Policy_Accident',\n",
    "                        'Days_Policy_Claim',\n",
    "                        'PastNumberOfClaims',\n",
    "                        'AgeOfVehicle',\n",
    "                        'PoliceReportFiled',\n",
    "                        'WitnessPresent',\n",
    "                        'AgentType',\n",
    "                        'NumberOfSuppliments',\n",
    "                        'AddressChange_Claim',\n",
    "                        'NumberOfCars',\n",
    "                        'BasePolicy']\n",
    "\n",
    "\n",
    "preprocessor = ColumnTransformer(\n",
    "    transformers=[\n",
    "        ('cat', OneHotEncoder(), categorical_columns)\n",
    "    ],\n",
    "    remainder='passthrough'  # This will keep non-categorical columns unchanged\n",
    ")\n",
    "\n",
    "# Step 4: Fit and transform X_train\n",
    "X_train_encoded = preprocessor.fit_transform(X_train)\n",
    "\n",
    "# Step 5: Transform X_test using the same transformer\n",
    "X_test_encoded = preprocessor.transform(X_test)\n",
    "\n",
    "print(X_train_encoded.shape)"
   ]
  },
  {
   "cell_type": "code",
   "execution_count": 6,
   "metadata": {},
   "outputs": [
    {
     "name": "stdout",
     "output_type": "stream",
     "text": [
      "Training target statistics: Counter({0: 11602, 1: 733})\n",
      "Testing target statistics: Counter({0: 2894, 1: 190})\n"
     ]
    },
    {
     "data": {
      "text/plain": [
       "((12335, 67), (3084, 67), (12335,), (3084,))"
      ]
     },
     "execution_count": 6,
     "metadata": {},
     "output_type": "execute_result"
    }
   ],
   "source": [
    "from collections import Counter\n",
    "print(f\"Training target statistics: {Counter(y_train)}\")\n",
    "print(f\"Testing target statistics: {Counter(y_test)}\")\n",
    "X_train_encoded.shape, X_test_encoded.shape, y_train.shape, y_test.shape"
   ]
  },
  {
   "cell_type": "code",
   "execution_count": 7,
   "metadata": {},
   "outputs": [
    {
     "data": {
      "text/plain": [
       "{0: 0.5315893811411826, 1: 8.414051841746248}"
      ]
     },
     "execution_count": 7,
     "metadata": {},
     "output_type": "execute_result"
    }
   ],
   "source": [
    "from sklearn.utils import class_weight\n",
    "class_weights = dict(zip(np.unique(y_train), class_weight.compute_class_weight(\n",
    "                                                                        class_weight='balanced',\n",
    "                                                                        classes= np.unique(y_train), \n",
    "                                                                        y = y_train)))\n",
    "class_weights"
   ]
  },
  {
   "cell_type": "code",
   "execution_count": 8,
   "metadata": {},
   "outputs": [],
   "source": [
    "# Models from scikit-learn & XGboost\n",
    "from sklearn.ensemble import RandomForestClassifier\n",
    "from xgboost import XGBClassifier\n",
    "from xgboost import plot_importance\n",
    "from sklearn.pipeline import Pipeline\n",
    "from sklearn.feature_selection import SelectKBest, chi2\n",
    "\n",
    "\n",
    "# Model Evaluation libraries\n",
    "from sklearn.model_selection import train_test_split, cross_val_score\n",
    "from sklearn.model_selection import GridSearchCV, RandomizedSearchCV, KFold\n",
    "from sklearn.metrics import classification_report, confusion_matrix\n",
    "from sklearn.metrics import precision_score, recall_score, f1_score, make_scorer, accuracy_score\n",
    "from sklearn.metrics import roc_auc_score, roc_curve\n",
    "from sklearn.metrics import plot_roc_curve\n",
    "# For Hyperparameter tunning of Xgboost\n",
    "from hyperopt import STATUS_OK, Trials, fmin, hp, tpe"
   ]
  },
  {
   "cell_type": "code",
   "execution_count": 9,
   "metadata": {},
   "outputs": [],
   "source": [
    "models = {\"Random Forest Classifier\": RandomForestClassifier(class_weight=class_weights)}\n",
    "\n",
    "# Let's create a function to fit and later score our models\n",
    "def fit_score(models, X_train, X_test, y_train, y_test):\n",
    "    \"\"\"\n",
    "    Fits and evaluates the given machine learning models\n",
    "    \"\"\"\n",
    "    # random seed for reproduction\n",
    "    np.random.seed(42)\n",
    "    \n",
    "    # Let's create a empty dictionary to keep model score\n",
    "    accuracy = {}\n",
    "    precision = {}\n",
    "    recall = {}\n",
    "    f1 = {}\n",
    "    auc_roc = {}\n",
    "    \n",
    "    \n",
    "    # Let's loop through the models dictionary\n",
    "    for name, model in models.items():\n",
    "        # Fit the model\n",
    "        model.fit(X_train, y_train)\n",
    "        # Evaluate the score and append it\n",
    "        accuracy[name] = model.score(X_test,y_test)\n",
    "        predictions = model.predict(X_test)\n",
    "        precision[name] = precision_score(y_test, predictions)\n",
    "        recall[name] = recall_score(y_test, predictions)\n",
    "        f1[name] = f1_score(y_test, predictions)\n",
    "        predictions_proba = model.predict_proba(X_test)[:, 1] \n",
    "        auc_roc[name] = roc_auc_score(y_test, predictions_proba)\n",
    "\n",
    "    return {'accuracy': accuracy,\n",
    "            'precision': precision,\n",
    "            'recall': recall,\n",
    "            'f1_score': f1,\n",
    "            'auc_roc': auc_roc}"
   ]
  },
  {
   "cell_type": "code",
   "execution_count": 10,
   "metadata": {},
   "outputs": [
    {
     "data": {
      "text/plain": [
       "{'accuracy': {'Random Forest Classifier': 0.9377431906614786},\n",
       " 'precision': {'Random Forest Classifier': 0.4},\n",
       " 'recall': {'Random Forest Classifier': 0.021052631578947368},\n",
       " 'f1_score': {'Random Forest Classifier': 0.039999999999999994},\n",
       " 'auc_roc': {'Random Forest Classifier': 0.7914741934310552}}"
      ]
     },
     "execution_count": 10,
     "metadata": {},
     "output_type": "execute_result"
    }
   ],
   "source": [
    "model_score = fit_score(models=models,\n",
    "                        X_train=X_train_encoded,\n",
    "                        X_test=X_test_encoded,\n",
    "                        y_train=y_train,\n",
    "                        y_test=y_test)\n",
    "model_score"
   ]
  },
  {
   "cell_type": "code",
   "execution_count": 22,
   "metadata": {},
   "outputs": [
    {
     "name": "stdout",
     "output_type": "stream",
     "text": [
      "[[1633 1261]\n",
      " [  12  178]]\n",
      "Random Forest Classifier TPR - FPR: 0.5011130105845125\n"
     ]
    },
    {
     "name": "stderr",
     "output_type": "stream",
     "text": [
      "C:\\Users\\mings\\AppData\\Local\\Packages\\PythonSoftwareFoundation.Python.3.7_qbz5n2kfra8p0\\LocalCache\\local-packages\\Python37\\site-packages\\sklearn\\utils\\deprecation.py:87: FutureWarning: Function plot_roc_curve is deprecated; Function :func:`plot_roc_curve` is deprecated in 1.0 and will be removed in 1.2. Use one of the class methods: :meth:`sklearn.metric.RocCurveDisplay.from_predictions` or :meth:`sklearn.metric.RocCurveDisplay.from_estimator`.\n",
      "  warnings.warn(msg, category=FutureWarning)\n"
     ]
    },
    {
     "data": {
      "image/png": "[encoded data removed]",
      "text/plain": [
       "<Figure size 432x288 with 1 Axes>"
      ]
     },
     "metadata": {
      "needs_background": "light"
     },
     "output_type": "display_data"
    }
   ],
   "source": [
    "for model_name, model in models.items():\n",
    "    predictions_proba = model.predict_proba(X_test_encoded)[:, 1]  # Probability estimates for positive class\n",
    "\n",
    "    # Calculate the False Positive Rate (FPR) and True Positive Rate (TPR) using ROC curve\n",
    "    fpr, tpr, thresholds = roc_curve(y_test, predictions_proba)\n",
    "\n",
    "    # Find the threshold that maximizes TPR - FPR\n",
    "    best_threshold_index = np.argmax(tpr - fpr)\n",
    "    best_threshold = thresholds[best_threshold_index]\n",
    "\n",
    "    # Apply the threshold to get binary predictions\n",
    "    binary_predictions = (predictions_proba >= best_threshold).astype(int)\n",
    "\n",
    "    # Calculate TPR and FPR using the confusion matrix\n",
    "    confusion = confusion_matrix(y_test, binary_predictions)\n",
    "    tn, fp, fn, tp = confusion.ravel()\n",
    "\n",
    "    tpr = tp / (tp + fn)\n",
    "    fpr = fp / (fp + tn)\n",
    "\n",
    "    # Calculate TPR - FPR\n",
    "    tpr_minus_fpr = tpr - fpr\n",
    "    print(confusion)\n",
    "    print(model_name, \"TPR - FPR:\", tpr_minus_fpr)\n",
    "    plot_roc_curve(model, X_test_encoded ,y_test)"
   ]
  },
  {
   "cell_type": "code",
   "execution_count": 12,
   "metadata": {},
   "outputs": [
    {
     "name": "stdout",
     "output_type": "stream",
     "text": [
      "Fitting 5 folds for each of 10 candidates, totalling 50 fits\n"
     ]
    },
    {
     "data": {
      "text/plain": [
       "RandomizedSearchCV(cv=5,\n",
       "                   estimator=RandomForestClassifier(class_weight={0: 0.5315893811411826,\n",
       "                                                                  1: 8.414051841746248}),\n",
       "                   param_distributions={'max_depth': [None, 3, 5, 10],\n",
       "                                        'min_samples_leaf': array([ 1,  3,  5,  7,  9, 11, 13, 15, 17, 19]),\n",
       "                                        'min_samples_split': array([ 2,  4,  6,  8, 10, 12, 14, 16, 18]),\n",
       "                                        'n_estimators': array([ 10,  60, 110, 160, 210, 260, 310, 360, 410, 460, 510, 560, 610,\n",
       "       660, 710, 760, 810, 860, 910, 960])},\n",
       "                   scoring=make_scorer(fraud_scoring), verbose=True)"
      ]
     },
     "execution_count": 12,
     "metadata": {},
     "output_type": "execute_result"
    }
   ],
   "source": [
    "np.random.seed(42)\n",
    "\n",
    "def fraud_scoring(y_true, y_pred):\n",
    "    # Assuming 1 indicates fraud and 0 indicates non-fraud\n",
    "    recall = recall_score(y_true, y_pred)\n",
    "    # You might customize this function based on your specific goals\n",
    "    return recall\n",
    "\n",
    "rf_random_grid = {\"n_estimators\": np.arange(10,1000,50),\n",
    "                  \"max_depth\": [None, 3, 5, 10],\n",
    "                  \"min_samples_split\": np.arange(2, 20, 2),\n",
    "                  \"min_samples_leaf\": np.arange(1, 20, 2)} \n",
    "\n",
    "# Setup random hyperparameter search for RandomForestClassifer\n",
    "rf_rs = RandomizedSearchCV(RandomForestClassifier(class_weight=class_weights),\n",
    "                           param_distributions=rf_random_grid,\n",
    "                           cv=5,\n",
    "                           verbose=True,\n",
    "                           n_iter=10,\n",
    "                           scoring=make_scorer(fraud_scoring, greater_is_better=True))\n",
    "\n",
    "# Fitting random hyperparamter search\n",
    "rf_rs.fit(X_train_encoded, y_train)"
   ]
  },
  {
   "cell_type": "code",
   "execution_count": 13,
   "metadata": {},
   "outputs": [
    {
     "data": {
      "text/plain": [
       "{'n_estimators': 610,\n",
       " 'min_samples_split': 4,\n",
       " 'min_samples_leaf': 15,\n",
       " 'max_depth': 3}"
      ]
     },
     "execution_count": 13,
     "metadata": {},
     "output_type": "execute_result"
    }
   ],
   "source": [
    "rf_rs.best_params_"
   ]
  },
  {
   "cell_type": "code",
   "execution_count": 14,
   "metadata": {},
   "outputs": [
    {
     "data": {
      "text/plain": [
       "(0.9526315789473684,\n",
       " 0.12928571428571428,\n",
       " 0.9526315789473684,\n",
       " 0.22767295597484274,\n",
       " 0.8091641508747682)"
      ]
     },
     "execution_count": 14,
     "metadata": {},
     "output_type": "execute_result"
    }
   ],
   "source": [
    "accuracy = rf_rs.score(X_test_encoded,y_test)\n",
    "predictions = rf_rs.predict(X_test_encoded)\n",
    "precision = precision_score(y_test, predictions)\n",
    "recall = recall_score(y_test, predictions)\n",
    "f1 = f1_score(y_test, predictions)\n",
    "predictions_proba = rf_rs.predict_proba(X_test_encoded)[:, 1] \n",
    "auc_roc = roc_auc_score(y_test, predictions_proba)\n",
    "\n",
    "accuracy, precision, recall, f1, auc_roc"
   ]
  },
  {
   "cell_type": "code",
   "execution_count": 15,
   "metadata": {},
   "outputs": [
    {
     "name": "stdout",
     "output_type": "stream",
     "text": [
      "[[1676 1218]\n",
      " [   9  181]]\n",
      "TPR - FPR: 0.5317608118430146\n"
     ]
    }
   ],
   "source": [
    "predictions_proba = rf_rs.predict_proba(X_test_encoded)[:, 1]  # Probability estimates for positive class\n",
    "\n",
    "# Calculate the False Positive Rate (FPR) and True Positive Rate (TPR) using ROC curve\n",
    "fpr, tpr, thresholds = roc_curve(y_test, predictions_proba)\n",
    "\n",
    "# Find the threshold that maximizes TPR - FPR\n",
    "best_threshold_index = np.argmax(tpr - fpr)\n",
    "best_threshold = thresholds[best_threshold_index]\n",
    "\n",
    "# Apply the threshold to get binary predictions\n",
    "binary_predictions = (predictions_proba >= best_threshold).astype(int)\n",
    "\n",
    "# Calculate TPR and FPR using the confusion matrix\n",
    "confusion = confusion_matrix(y_test, binary_predictions)\n",
    "tn, fp, fn, tp = confusion.ravel()\n",
    "\n",
    "tpr = tp / (tp + fn)\n",
    "fpr = fp / (fp + tn)\n",
    "\n",
    "# Calculate TPR - FPR\n",
    "tpr_minus_fpr = tpr - fpr\n",
    "print(confusion)\n",
    "print(\"TPR - FPR:\", tpr_minus_fpr)"
   ]
  },
  {
   "cell_type": "code",
   "execution_count": 24,
   "metadata": {},
   "outputs": [
    {
     "name": "stderr",
     "output_type": "stream",
     "text": [
      "C:\\Users\\mings\\AppData\\Local\\Packages\\PythonSoftwareFoundation.Python.3.7_qbz5n2kfra8p0\\LocalCache\\local-packages\\Python37\\site-packages\\sklearn\\utils\\deprecation.py:87: FutureWarning: Function plot_roc_curve is deprecated; Function :func:`plot_roc_curve` is deprecated in 1.0 and will be removed in 1.2. Use one of the class methods: :meth:`sklearn.metric.RocCurveDisplay.from_predictions` or :meth:`sklearn.metric.RocCurveDisplay.from_estimator`.\n",
      "  warnings.warn(msg, category=FutureWarning)\n"
     ]
    },
    {
     "data": {
      "text/plain": [
       "<sklearn.metrics._plot.roc_curve.RocCurveDisplay at 0x207de30f548>"
      ]
     },
     "execution_count": 24,
     "metadata": {},
     "output_type": "execute_result"
    },
    {
     "data": {
      "image/png": "[encoded data removed]",
      "text/plain": [
       "<Figure size 432x288 with 1 Axes>"
      ]
     },
     "metadata": {
      "needs_background": "light"
     },
     "output_type": "display_data"
    }
   ],
   "source": [
    "plot_roc_curve(rf_rs, X_test_encoded ,y_test)"
   ]
  },
  {
   "cell_type": "code",
   "execution_count": 16,
   "metadata": {},
   "outputs": [
    {
     "name": "stdout",
     "output_type": "stream",
     "text": [
      "Fitting 5 folds for each of 10 candidates, totalling 50 fits\n"
     ]
    },
    {
     "name": "stderr",
     "output_type": "stream",
     "text": [
      "C:\\Users\\mings\\AppData\\Local\\Packages\\PythonSoftwareFoundation.Python.3.7_qbz5n2kfra8p0\\LocalCache\\local-packages\\Python37\\site-packages\\sklearn\\model_selection\\_validation.py:372: FitFailedWarning: \n",
      "15 fits failed out of a total of 50.\n",
      "The score on these train-test partitions for these parameters will be set to nan.\n",
      "If these failures are not expected, you can try to debug them by setting error_score='raise'.\n",
      "\n",
      "Below are more details about the failures:\n",
      "--------------------------------------------------------------------------------\n",
      "15 fits failed with the following error:\n",
      "Traceback (most recent call last):\n",
      "  File \"C:\\Users\\mings\\AppData\\Local\\Packages\\PythonSoftwareFoundation.Python.3.7_qbz5n2kfra8p0\\LocalCache\\local-packages\\Python37\\site-packages\\sklearn\\model_selection\\_validation.py\", line 680, in _fit_and_score\n",
      "    estimator.fit(X_train, y_train, **fit_params)\n",
      "  File \"C:\\Users\\mings\\AppData\\Local\\Packages\\PythonSoftwareFoundation.Python.3.7_qbz5n2kfra8p0\\LocalCache\\local-packages\\Python37\\site-packages\\sklearn\\ensemble\\_forest.py\", line 380, in fit\n",
      "    \"`max_sample` cannot be set if `bootstrap=False`. \"\n",
      "ValueError: `max_sample` cannot be set if `bootstrap=False`. Either switch to `bootstrap=True` or set `max_sample=None`.\n",
      "\n",
      "  warnings.warn(some_fits_failed_message, FitFailedWarning)\n",
      "C:\\Users\\mings\\AppData\\Local\\Packages\\PythonSoftwareFoundation.Python.3.7_qbz5n2kfra8p0\\LocalCache\\local-packages\\Python37\\site-packages\\sklearn\\model_selection\\_search.py:972: UserWarning: One or more of the test scores are non-finite: [0.53184123        nan 0.5282217  0.5349537         nan 0.42006766\n",
      " 0.487929   0.                nan 0.        ]\n",
      "  category=UserWarning,\n"
     ]
    },
    {
     "data": {
      "text/plain": [
       "RandomizedSearchCV(cv=5,\n",
       "                   estimator=RandomForestClassifier(class_weight={0: 0.5315893811411826,\n",
       "                                                                  1: 8.414051841746248}),\n",
       "                   param_distributions={'bootstrap': [True, False],\n",
       "                                        'criterion': ['gini', 'entropy'],\n",
       "                                        'max_depth': [None, 3, 5, 10],\n",
       "                                        'max_features': ['sqrt', 'log2', None],\n",
       "                                        'max_leaf_nodes': [None, 10, 20, 50],\n",
       "                                        'max_samples': [None, 0.5, 0.7, 0.9],\n",
       "                                        'min_impurity_decrease': [0.0, 0.1,\n",
       "                                                                  0.2],\n",
       "                                        'min_samples_leaf': array([ 1,  3,  5,  7,  9, 11, 13, 15, 17, 19]),\n",
       "                                        'min_samples_split': array([ 2,  4,  6,  8, 10, 12, 14, 16, 18]),\n",
       "                                        'n_estimators': array([ 10,  60, 110, 160, 210, 260, 310, 360, 410, 460, 510, 560, 610,\n",
       "       660, 710, 760, 810, 860, 910, 960])},\n",
       "                   scoring=make_scorer(maximize_tpr_minus_fpr), verbose=True)"
      ]
     },
     "execution_count": 16,
     "metadata": {},
     "output_type": "execute_result"
    }
   ],
   "source": [
    "def maximize_tpr_minus_fpr(y_true, y_pred):\n",
    "    confusion = confusion_matrix(y_true, y_pred)\n",
    "    tn, fp, fn, tp = confusion.ravel()\n",
    "\n",
    "    # Calculate TPR (Sensitivity/Recall) and FPR\n",
    "    tpr = tp / (tp + fn)\n",
    "    fpr = fp / (fp + tn)\n",
    "\n",
    "    # Maximize TPR - FPR\n",
    "    return tpr - fpr\n",
    "\n",
    "rf_random_grid = {\n",
    "    \"n_estimators\": np.arange(10, 1000, 50),\n",
    "    \"max_depth\": [None, 3, 5, 10],\n",
    "    \"min_samples_split\": np.arange(2, 20, 2),\n",
    "    \"min_samples_leaf\": np.arange(1, 20, 2),\n",
    "    \"criterion\": [\"gini\", \"entropy\"],\n",
    "    \"max_features\": [\"sqrt\", \"log2\", None],\n",
    "    \"bootstrap\": [True, False],\n",
    "    \"max_leaf_nodes\": [None, 10, 20, 50],\n",
    "    \"max_samples\": [None, 0.5, 0.7, 0.9],\n",
    "    \"min_impurity_decrease\": [0.0, 0.1, 0.2]\n",
    "}\n",
    "\n",
    "\n",
    "# Setup random hyperparameter search for RandomForestClassifer\n",
    "rf_rs_2 = RandomizedSearchCV(RandomForestClassifier(class_weight=class_weights),\n",
    "                           param_distributions=rf_random_grid,\n",
    "                           cv=5,\n",
    "                           verbose=True,\n",
    "                           n_iter=10,\n",
    "                           scoring=make_scorer(maximize_tpr_minus_fpr, greater_is_better=True))\n",
    "\n",
    "# Fitting random hyperparamter search\n",
    "rf_rs_2.fit(X_train_encoded, y_train)"
   ]
  },
  {
   "cell_type": "code",
   "execution_count": 17,
   "metadata": {},
   "outputs": [
    {
     "data": {
      "text/plain": [
       "{'n_estimators': 560,\n",
       " 'min_samples_split': 14,\n",
       " 'min_samples_leaf': 1,\n",
       " 'min_impurity_decrease': 0.0,\n",
       " 'max_samples': 0.9,\n",
       " 'max_leaf_nodes': 10,\n",
       " 'max_features': None,\n",
       " 'max_depth': 10,\n",
       " 'criterion': 'entropy',\n",
       " 'bootstrap': True}"
      ]
     },
     "execution_count": 17,
     "metadata": {},
     "output_type": "execute_result"
    }
   ],
   "source": [
    "rf_rs_2.best_params_"
   ]
  },
  {
   "cell_type": "code",
   "execution_count": 18,
   "metadata": {},
   "outputs": [
    {
     "data": {
      "text/plain": [
       "(0.5302986214672825,\n",
       " 0.12977649603460706,\n",
       " 0.9473684210526315,\n",
       " 0.22828154724159794,\n",
       " 0.8372440257520096)"
      ]
     },
     "execution_count": 18,
     "metadata": {},
     "output_type": "execute_result"
    }
   ],
   "source": [
    "accuracy = rf_rs_2.score(X_test_encoded,y_test)\n",
    "predictions = rf_rs_2.predict(X_test_encoded)\n",
    "precision = precision_score(y_test, predictions)\n",
    "recall = recall_score(y_test, predictions)\n",
    "f1 = f1_score(y_test, predictions)\n",
    "predictions_proba = rf_rs_2.predict_proba(X_test_encoded)[:, 1] \n",
    "auc_roc = roc_auc_score(y_test, predictions_proba)\n",
    "\n",
    "accuracy, precision, recall, f1, auc_roc"
   ]
  },
  {
   "cell_type": "code",
   "execution_count": 19,
   "metadata": {},
   "outputs": [
    {
     "name": "stdout",
     "output_type": "stream",
     "text": [
      "[[1883 1011]\n",
      " [  14  176]]\n",
      "TPR - FPR: 0.5769723202269669\n"
     ]
    }
   ],
   "source": [
    "predictions_proba = rf_rs_2.predict_proba(X_test_encoded)[:, 1]  # Probability estimates for positive class\n",
    "\n",
    "# Calculate the False Positive Rate (FPR) and True Positive Rate (TPR) using ROC curve\n",
    "fpr, tpr, thresholds = roc_curve(y_test, predictions_proba)\n",
    "\n",
    "# Find the threshold that maximizes TPR - FPR\n",
    "best_threshold_index = np.argmax(tpr - fpr)\n",
    "best_threshold = thresholds[best_threshold_index]\n",
    "\n",
    "# Apply the threshold to get binary predictions\n",
    "binary_predictions = (predictions_proba >= best_threshold).astype(int)\n",
    "\n",
    "# Calculate TPR and FPR using the confusion matrix\n",
    "confusion = confusion_matrix(y_test, binary_predictions)\n",
    "tn, fp, fn, tp = confusion.ravel()\n",
    "\n",
    "tpr = tp / (tp + fn)\n",
    "fpr = fp / (fp + tn)\n",
    "\n",
    "# Calculate TPR - FPR\n",
    "tpr_minus_fpr = tpr - fpr\n",
    "\n",
    "print(confusion)\n",
    "print(\"TPR - FPR:\", tpr_minus_fpr)\n"
   ]
  },
  {
   "cell_type": "code",
   "execution_count": 20,
   "metadata": {},
   "outputs": [
    {
     "name": "stderr",
     "output_type": "stream",
     "text": [
      "C:\\Users\\mings\\AppData\\Local\\Packages\\PythonSoftwareFoundation.Python.3.7_qbz5n2kfra8p0\\LocalCache\\local-packages\\Python37\\site-packages\\sklearn\\utils\\deprecation.py:87: FutureWarning: Function plot_roc_curve is deprecated; Function :func:`plot_roc_curve` is deprecated in 1.0 and will be removed in 1.2. Use one of the class methods: :meth:`sklearn.metric.RocCurveDisplay.from_predictions` or :meth:`sklearn.metric.RocCurveDisplay.from_estimator`.\n",
      "  warnings.warn(msg, category=FutureWarning)\n"
     ]
    },
    {
     "data": {
      "text/plain": [
       "<sklearn.metrics._plot.roc_curve.RocCurveDisplay at 0x207dc0bdf48>"
      ]
     },
     "execution_count": 20,
     "metadata": {},
     "output_type": "execute_result"
    },
    {
     "data": {
      "image/png": "[encoded data removed]",
      "text/plain": [
       "<Figure size 432x288 with 1 Axes>"
      ]
     },
     "metadata": {
      "needs_background": "light"
     },
     "output_type": "display_data"
    }
   ],
   "source": [
    "plot_roc_curve(rf_rs_2, X_test_encoded ,y_test)"
   ]
  },
  {
   "cell_type": "code",
   "execution_count": 21,
   "metadata": {},
   "outputs": [
    {
     "name": "stdout",
     "output_type": "stream",
     "text": [
      "              precision    recall  f1-score   support\n",
      "\n",
      "           0       0.99      0.58      0.73      2894\n",
      "           1       0.13      0.95      0.23       190\n",
      "\n",
      "    accuracy                           0.61      3084\n",
      "   macro avg       0.56      0.77      0.48      3084\n",
      "weighted avg       0.94      0.61      0.70      3084\n",
      "\n"
     ]
    }
   ],
   "source": [
    "y_preds = rf_rs_2.predict(X_test_encoded)\n",
    "y_preds\n",
    "\n",
    "print(classification_report(y_test,y_preds));"
   ]
  },
  {
   "cell_type": "code",
   "execution_count": 40,
   "metadata": {},
   "outputs": [
    {
     "name": "stdout",
     "output_type": "stream",
     "text": [
      "                             Feature  Importance\n",
      "62               NumberOfSuppliments    0.026364\n",
      "66                         Date_Diff    0.027877\n",
      "50  AddressChange_Claim_2 to 3 years    0.207543\n",
      "9                  Fault_Third Party    0.311882\n",
      "61              BasePolicy_Liability    0.366680\n"
     ]
    },
    {
     "data": {
      "image/png": "[encoded data removed]",
      "text/plain": [
       "<Figure size 720x432 with 1 Axes>"
      ]
     },
     "metadata": {
      "needs_background": "light"
     },
     "output_type": "display_data"
    }
   ],
   "source": [
    "# Access the best estimator from the randomized search\n",
    "best_rf_model = rf_rs_2.best_estimator_\n",
    "\n",
    "# Fit the best model to the training data\n",
    "best_rf_model.fit(X_train_encoded, y_train)\n",
    "\n",
    "# Get feature importances\n",
    "feature_importances = best_rf_model.feature_importances_\n",
    "\n",
    "one_hot_feature_names = preprocessor.named_transformers_['cat'].get_feature_names_out(input_features=categorical_columns)\n",
    "feature_names = np.concatenate([one_hot_feature_names, X_train.columns[len(categorical_columns):]])\n",
    "\n",
    "# Create a DataFrame to display feature importances\n",
    "feature_importance_df = pd.DataFrame({'Feature': feature_names, 'Importance': feature_importances})\n",
    "feature_importance_df = feature_importance_df[feature_importance_df['Importance'] != 0]\n",
    "\n",
    "# Sort the DataFrame by importance in descending order\n",
    "feature_importance_df = feature_importance_df.sort_values(by='Importance', ascending=True)[-5:]\n",
    "\n",
    "\n",
    "# Print or visualize the feature importances\n",
    "print(feature_importance_df)\n",
    "\n",
    "# Plot the feature importances\n",
    "plt.figure(figsize=(10, 6))\n",
    "plt.barh(feature_importance_df['Feature'], feature_importance_df['Importance'])\n",
    "plt.xlabel('Importance')\n",
    "plt.title('Top 5 Feature Importance from Random Forest Classifier')\n",
    "plt.show()\n",
    "\n"
   ]
  }
 ],
 "metadata": {
  "kernelspec": {
   "display_name": "Python 3",
   "language": "python",
   "name": "python3"
  },
  "language_info": {
   "codemirror_mode": {
    "name": "ipython",
    "version": 3
   },
   "file_extension": ".py",
   "mimetype": "text/x-python",
   "name": "python",
   "nbconvert_exporter": "python",
   "pygments_lexer": "ipython3",
   "version": "3.7.9"
  }
 },
 "nbformat": 4,
 "nbformat_minor": 2
}
